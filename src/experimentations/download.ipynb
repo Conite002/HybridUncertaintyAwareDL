{
 "cells": [
  {
   "cell_type": "code",
   "execution_count": 7,
   "metadata": {},
   "outputs": [],
   "source": [
    "from tqdm import tqdm"
   ]
  },
  {
   "cell_type": "code",
   "execution_count": 12,
   "metadata": {},
   "outputs": [
    {
     "name": "stdout",
     "output_type": "stream",
     "text": [
      "Files already exists im_Superficial-Intermediate.7z\n",
      "Extracting ../Datasets/SIPaKMeD/im_Superficial-Intermediate.7z\n",
      "Extracting: 100%|█████████████████████████| 4283/4283 [01:03<00:00, 67.80file/s]\n",
      "Extraction completed: ../Datasets/SIPaKMeD/im_Superficial-Intermediate.7z\n",
      "Files already exists im_Parabasal.7z\n",
      "Extracting ../Datasets/SIPaKMeD/im_Parabasal.7z\n",
      "Extracting: 100%|████████████████████████| 4045/4045 [00:37<00:00, 107.52file/s]\n",
      "Extraction completed: ../Datasets/SIPaKMeD/im_Parabasal.7z\n",
      "Files already exists im_Koilocytotic.7z\n",
      "Extracting ../Datasets/SIPaKMeD/im_Koilocytotic.7z\n",
      "Extracting: 100%|█████████████████████████| 4365/4365 [01:32<00:00, 47.44file/s]\n",
      "Extraction completed: ../Datasets/SIPaKMeD/im_Koilocytotic.7z\n",
      "Files already exists im_Metaplastic.7z\n",
      "Extracting ../Datasets/SIPaKMeD/im_Metaplastic.7z\n",
      "Extracting: 100%|█████████████████████████| 4238/4238 [01:40<00:00, 42.03file/s]\n",
      "Extraction completed: ../Datasets/SIPaKMeD/im_Metaplastic.7z\n",
      "Downloading im_Dyskeratotic.7z --> ../Datasets/SIPaKMeD\n",
      "im_Dyskeratotic.7z: 100%|██████████████████| 1.10G/1.10G [06:01<00:00, 3.27MB/s]\n",
      "Downloaded: im_Dyskeratotic.7z\n",
      "Extracting ../Datasets/SIPaKMeD/im_Dyskeratotic.7z\n",
      "Extracting: 100%|█████████████████████████| 4290/4290 [01:14<00:00, 57.21file/s]\n",
      "Extraction completed: ../Datasets/SIPaKMeD/im_Dyskeratotic.7z\n",
      "No download links provided for Cytology Cervical Cancer. Skipping...\n",
      "No download links provided for Histopathology Ovarian Cancer. Skipping...\n",
      "No download links provided for Mammography Breast Cancer. Skipping...\n",
      "\n",
      "All datasets have been processed!\n"
     ]
    }
   ],
   "source": [
    "!python ../Datasets/download_datasets.py"
   ]
  },
  {
   "cell_type": "code",
   "execution_count": null,
   "metadata": {},
   "outputs": [],
   "source": []
  }
 ],
 "metadata": {
  "kernelspec": {
   "display_name": "base",
   "language": "python",
   "name": "python3"
  },
  "language_info": {
   "codemirror_mode": {
    "name": "ipython",
    "version": 3
   },
   "file_extension": ".py",
   "mimetype": "text/x-python",
   "name": "python",
   "nbconvert_exporter": "python",
   "pygments_lexer": "ipython3",
   "version": "3.11.5"
  }
 },
 "nbformat": 4,
 "nbformat_minor": 2
}
